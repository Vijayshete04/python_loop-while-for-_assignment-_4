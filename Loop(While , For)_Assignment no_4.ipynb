{
 "cells": [
  {
   "cell_type": "markdown",
   "id": "ca70f660",
   "metadata": {},
   "source": [
    "# print numbers from 1 to 5 using while loop"
   ]
  },
  {
   "cell_type": "code",
   "execution_count": 17,
   "id": "f948d25b",
   "metadata": {},
   "outputs": [
    {
     "name": "stdout",
     "output_type": "stream",
     "text": [
      "1\n",
      "2\n",
      "3\n",
      "4\n",
      "5\n"
     ]
    }
   ],
   "source": [
    "i=1\n",
    "while (i<=5):\n",
    "    print(i)\n",
    "    i=i+1"
   ]
  },
  {
   "cell_type": "markdown",
   "id": "49d92e16",
   "metadata": {},
   "source": [
    "# calculate the sum of numbers from 1 to 10  using a while loop\n"
   ]
  },
  {
   "cell_type": "code",
   "execution_count": 18,
   "id": "43e71efd",
   "metadata": {},
   "outputs": [
    {
     "name": "stdout",
     "output_type": "stream",
     "text": [
      "1\n",
      "3\n",
      "6\n",
      "10\n",
      "15\n",
      "21\n",
      "28\n",
      "36\n",
      "45\n",
      "55\n"
     ]
    }
   ],
   "source": [
    "n=0\n",
    "i=1\n",
    "while (i<=10):\n",
    "    n=n+i\n",
    "    i=i+1\n",
    "    print(n)"
   ]
  },
  {
   "cell_type": "markdown",
   "id": "b5dc90b6",
   "metadata": {},
   "source": [
    "# Calculate the factorial of a number using a for loop.\n"
   ]
  },
  {
   "cell_type": "code",
   "execution_count": 19,
   "id": "d0a62c38",
   "metadata": {},
   "outputs": [
    {
     "name": "stdout",
     "output_type": "stream",
     "text": [
      "1\n",
      "2\n",
      "6\n",
      "24\n",
      "120\n",
      "720\n",
      "5040\n",
      "40320\n",
      "362880\n"
     ]
    }
   ],
   "source": [
    "n=1\n",
    "i=1\n",
    "for i in range(1,10):\n",
    "    n=n*i\n",
    "    i=i+1\n",
    "    \n",
    "    print(n)"
   ]
  },
  {
   "cell_type": "markdown",
   "id": "bf78c416",
   "metadata": {},
   "source": [
    "# Count the number of vowel in a string using a for loop."
   ]
  },
  {
   "cell_type": "code",
   "execution_count": 20,
   "id": "4ea35981",
   "metadata": {},
   "outputs": [
    {
     "name": "stdout",
     "output_type": "stream",
     "text": [
      "please enter your own string :My name Vijay ,  to be honesh I am so honest in My Life \n",
      "total numbers of vowels in this string : 16\n"
     ]
    }
   ],
   "source": [
    "word=input(\"please enter your own string :\")\n",
    "vowels=0\n",
    "i=0\n",
    "for i in word: \n",
    "    if(i=='a' or i==\"e\"or i==\"i\"or i==\"o\"or i==\"u\"or i=='A'or i==\"E\"or i==\"I\"or i==\"O\" or i==\"U\"):\n",
    "        vowels=vowels+1\n",
    "print(\"total numbers of vowels in this string :\",vowels)"
   ]
  },
  {
   "cell_type": "markdown",
   "id": "18ab38dd",
   "metadata": {},
   "source": [
    "# Print a pattern using nested loop."
   ]
  },
  {
   "cell_type": "code",
   "execution_count": 21,
   "id": "f0359ba9",
   "metadata": {},
   "outputs": [
    {
     "name": "stdout",
     "output_type": "stream",
     "text": [
      "enter the number 5\n",
      "\n",
      "*\n",
      "**\n",
      "***\n",
      "****\n"
     ]
    }
   ],
   "source": [
    "rows = int(input(\"enter the number \"))\n",
    "for i in range(rows):\n",
    "    for j in range(i):\n",
    "        print('*',end=\"\")\n",
    "    print('')\n",
    "    \n",
    "\n"
   ]
  },
  {
   "cell_type": "markdown",
   "id": "04fb88d7",
   "metadata": {},
   "source": [
    "# generate a multiplicaiton table using a nested loop"
   ]
  },
  {
   "cell_type": "code",
   "execution_count": 22,
   "id": "094460bb",
   "metadata": {},
   "outputs": [
    {
     "name": "stdout",
     "output_type": "stream",
     "text": [
      "enter the number for an multiplication table 10\n",
      "10\n",
      "20\n",
      "30\n",
      "40\n",
      "50\n",
      "60\n",
      "70\n",
      "80\n",
      "90\n",
      "100\n"
     ]
    }
   ],
   "source": [
    "n = int(input(\"enter the number for an multiplication table \"))\n",
    "i=1\n",
    "for i in range(1,11):\n",
    "    print(i*n)\n",
    "    i=i+1\n",
    "    "
   ]
  },
  {
   "cell_type": "code",
   "execution_count": 23,
   "id": "9c39d61f",
   "metadata": {},
   "outputs": [
    {
     "name": "stdout",
     "output_type": "stream",
     "text": [
      "enter the number 110\n",
      "enter the number210\n",
      "  1   2   3   4   5   6   7   8   9  10 \n",
      "\n",
      "  2   4   6   8  10  12  14  16  18  20 \n",
      "\n",
      "  3   6   9  12  15  18  21  24  27  30 \n",
      "\n",
      "  4   8  12  16  20  24  28  32  36  40 \n",
      "\n",
      "  5  10  15  20  25  30  35  40  45  50 \n",
      "\n",
      "  6  12  18  24  30  36  42  48  54  60 \n",
      "\n",
      "  7  14  21  28  35  42  49  56  63  70 \n",
      "\n",
      "  8  16  24  32  40  48  56  64  72  80 \n",
      "\n",
      "  9  18  27  36  45  54  63  72  81  90 \n",
      "\n",
      " 10  20  30  40  50  60  70  80  90 100 \n",
      "\n"
     ]
    }
   ],
   "source": [
    "rows=int(input(\"enter the number 1\")) # Multiplication table up to 10 \n",
    "columns=int(input(\"enter the number2\")) # Number of columns\n",
    "# rows,columns=10,10  \n",
    "for i in range(1,rows+1):\n",
    "    for j in range(1,columns+1):# inner for loop\n",
    "        c=i*j\n",
    "        print(\"{:3d} \".format(c),end='')\n",
    "    print(\"\\n\")  # line break"
   ]
  },
  {
   "cell_type": "code",
   "execution_count": null,
   "id": "e213b415",
   "metadata": {},
   "outputs": [],
   "source": []
  }
 ],
 "metadata": {
  "kernelspec": {
   "display_name": "Python 3 (ipykernel)",
   "language": "python",
   "name": "python3"
  },
  "language_info": {
   "codemirror_mode": {
    "name": "ipython",
    "version": 3
   },
   "file_extension": ".py",
   "mimetype": "text/x-python",
   "name": "python",
   "nbconvert_exporter": "python",
   "pygments_lexer": "ipython3",
   "version": "3.11.5"
  }
 },
 "nbformat": 4,
 "nbformat_minor": 5
}
